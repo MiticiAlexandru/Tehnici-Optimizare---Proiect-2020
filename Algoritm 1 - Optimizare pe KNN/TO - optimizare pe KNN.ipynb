{
 "cells": [
  {
   "cell_type": "markdown",
   "metadata": {},
   "source": [
    "# Algoritmul KNN cu optimizari\n",
    "\n",
    "Mai jos avem 3 versiuni ale algoritmului de clasificare KNN. Prima foloseste un k cu o valoare \"default\".\n",
    "Este eficient ca timp dar sufera din punct de vedere al acuratetii.\n",
    "A doua implementare gaseste o valoare optima pentru k si creste acuratetea dar are un numar foarte mare de iteratii pentru k.\n",
    "Ultima implementare gaseste o valoare optima pentru k mult mai eficient decat cea precedenta, cu un numar mult mai mic de iteratii."
   ]
  },
  {
   "cell_type": "code",
   "execution_count": 1,
   "metadata": {},
   "outputs": [],
   "source": [
    "# Import:\n",
    "\n",
    "import numpy as np\n",
    "import pandas as pd\n",
    "import copy\n",
    "from math import floor\n",
    "from sklearn.model_selection import train_test_split\n",
    "from sklearn.neighbors import KNeighborsClassifier\n",
    "from sklearn.metrics import accuracy_score\n",
    "from sklearn.preprocessing import scale\n",
    "import warnings\n",
    "warnings.filterwarnings(\"ignore\")"
   ]
  },
  {
   "cell_type": "code",
   "execution_count": 2,
   "metadata": {},
   "outputs": [],
   "source": [
    "# Input and output file names:\n",
    "\n",
    "# In:\n",
    "trainingFile = \"training.csv\"\n",
    "trainingLabelsFile = \"trainingLabels.csv\"\n",
    "dataFile = \"data.csv\"\n",
    "dataLabelsFile = \"dataLabels.csv\"\n",
    "# Out:\n",
    "outptDefault = \"outptDefault.csv\"\n",
    "outptWithOptimizationFile = \"outptWithOptimization.csv\"\n",
    "outptWithoutOptimizationFile = \"outptWithoutOptimization.csv\"\n",
    "scoreFile = \"score.txt\""
   ]
  },
  {
   "cell_type": "code",
   "execution_count": 3,
   "metadata": {},
   "outputs": [],
   "source": [
    "# Define the default k value:\n",
    "\n",
    "defaultK = 3"
   ]
  },
  {
   "cell_type": "code",
   "execution_count": 4,
   "metadata": {},
   "outputs": [],
   "source": [
    "# Read/write:\n",
    "\n",
    "df1 = pd.read_csv(trainingFile, index_col=None)\n",
    "df2 = pd.read_csv(trainingLabelsFile, index_col=None)\n",
    "data = pd.read_csv(dataFile, index_col=None)\n",
    "dataLabels = pd.read_csv(dataLabelsFile, index_col=None)\n",
    "fullTrainData = copy.deepcopy(df1)\n",
    "fullTrainLabels = copy.deepcopy(df2)\n",
    "\n",
    "# Split the data (testing is random 10% of data, training is the rest):\n",
    "training, test, trainingLabels, testLabels = train_test_split(df1, df2, test_size=0.1, random_state=42)\n",
    "\n",
    "# Normalize the data:\n",
    "scale(fullTrainData)\n",
    "scale(training)\n",
    "scale(test)\n",
    "scale(data)\n",
    "\n",
    "def write_data(data, fileName):\n",
    "    df = pd.DataFrame(data)\n",
    "    df = df.replace(np.nan, '', regex=True)\n",
    "    df.index += 1\n",
    "    df.columns = ['Classification']\n",
    "    df.to_csv(fileName, sep=',', index_label='Id')"
   ]
  },
  {
   "cell_type": "code",
   "execution_count": 5,
   "metadata": {},
   "outputs": [],
   "source": [
    "# KNN functions:\n",
    "\n",
    "# Return KNN predictions:\n",
    "def KNN(XData, XLabels, YData, k):\n",
    "    # Create KNN with given k:\n",
    "    knn = KNeighborsClassifier(n_neighbors=k)\n",
    "\n",
    "    # Fit the model:\n",
    "    knn.fit(XData, XLabels)\n",
    "\n",
    "    # Make predictions:\n",
    "    pred = knn.predict(YData)\n",
    "    return pred\n",
    "\n",
    "# Score model accuracy:\n",
    "def score_accuracy(pred, YLabels):\n",
    "    # Evaluate the accuracy:\n",
    "    sc = accuracy_score(YLabels, pred, normalize = True)\n",
    "    return sc\n",
    "\n",
    "# Score k using the test data on KNN:\n",
    "def score_k(k):\n",
    "    pred = KNN(training, trainingLabels, test, k)\n",
    "    score = score_accuracy(pred, testLabels)\n",
    "    return score\n",
    "\n",
    "# Do KNN for the chosen k values and write the data:\n",
    "def do_KNN(k, optimizedK):\n",
    "    # Do KNN and score accuracy:\n",
    "    defaultPred = KNN(fullTrainData, fullTrainLabels, data, defaultK)\n",
    "    pred = KNN(fullTrainData, fullTrainLabels, data, k)\n",
    "    predOptimized = KNN(fullTrainData, fullTrainLabels, data, optimizedK)\n",
    "    defaultScore = score_accuracy(defaultPred, dataLabels) * 100\n",
    "    score = score_accuracy(pred, dataLabels) * 100\n",
    "    scoreOptimized = score_accuracy(predOptimized, dataLabels) * 100\n",
    "\n",
    "    # Write data to output files:\n",
    "    write_data(defaultPred, outptDefault)\n",
    "    write_data(pred, outptWithoutOptimizationFile)\n",
    "    write_data(predOptimized, outptWithOptimizationFile)\n",
    "\n",
    "    # Write accuracy scores:\n",
    "    text = [\"Score for default k is: \" + str(defaultScore) + \"\\n\", \"Score for normal parameter tuning is: \" + str(score) + \"\\n\", \"Score for optimized parameter tuning is: \" + str(scoreOptimized) + \"\\n\"]\n",
    "    fl = open(scoreFile,\"w\")\n",
    "    fl.writelines(text)\n",
    "    fl.close()\n",
    "    print(text[0])\n",
    "    print(text[1])\n",
    "    print(text[2])"
   ]
  },
  {
   "cell_type": "code",
   "execution_count": 6,
   "metadata": {},
   "outputs": [],
   "source": [
    "# The simple parameter tuning optimization:\n",
    "def parameter_tuning():\n",
    "    maxK = len(training.index)\n",
    "    r = np.arange(1, maxK)\n",
    "    maxScore = 0\n",
    "    k = 1\n",
    "    for i in r:\n",
    "        s = score_k(i)\n",
    "        if(s > maxScore):\n",
    "            maxScore = s\n",
    "            k = i\n",
    "    return k\n",
    "\n",
    "# The advanced parameter tuning optimization:\n",
    "def optimized_parameter_tuning():\n",
    "    start = 1\n",
    "    end = len(training.index)\n",
    "    while(start != end):\n",
    "        middle = floor((start + end)/2)\n",
    "        s1 = score_k(start)\n",
    "        s2 = score_k(end)\n",
    "        if(s1 > s2):\n",
    "            end = middle\n",
    "        else:\n",
    "            start = middle\n",
    "    return start"
   ]
  },
  {
   "cell_type": "code",
   "execution_count": 7,
   "metadata": {},
   "outputs": [
    {
     "name": "stdout",
     "output_type": "stream",
     "text": [
      "Score for default k is: 57.70925110132159\n",
      "\n",
      "Score for normal parameter tuning is: 62.55506607929515\n",
      "\n",
      "Score for optimized parameter tuning is: 62.55506607929515\n",
      "\n"
     ]
    }
   ],
   "source": [
    "# Run 3 versions of KNN:\n",
    "k = parameter_tuning()\n",
    "optimizedK = optimized_parameter_tuning()\n",
    "\n",
    "do_KNN(k, optimizedK)"
   ]
  }
 ],
 "metadata": {
  "kernelspec": {
   "display_name": "Python 3",
   "language": "python",
   "name": "python3"
  },
  "language_info": {
   "codemirror_mode": {
    "name": "ipython",
    "version": 3
   },
   "file_extension": ".py",
   "mimetype": "text/x-python",
   "name": "python",
   "nbconvert_exporter": "python",
   "pygments_lexer": "ipython3",
   "version": "3.7.3"
  }
 },
 "nbformat": 4,
 "nbformat_minor": 2
}
